{
 "cells": [
  {
   "cell_type": "code",
   "execution_count": 1,
   "id": "513b06e5",
   "metadata": {},
   "outputs": [],
   "source": [
    "import pandas as pd\n",
    "import numpy as np\n",
    "import pathlib\n"
   ]
  },
  {
   "cell_type": "code",
   "execution_count": 2,
   "id": "52fc3a3c",
   "metadata": {},
   "outputs": [],
   "source": [
    "path_data = pathlib.Path().cwd() / 'data'\n",
    "path_raw = path_data / 'raw'"
   ]
  },
  {
   "cell_type": "code",
   "execution_count": 3,
   "id": "e2e7da61",
   "metadata": {},
   "outputs": [],
   "source": [
    "# Read CSV file with polars\n",
    "df = pd.read_csv(path_raw / \"dow_jones_close_prices_aug_dec_2024.csv\")\n"
   ]
  },
  {
   "cell_type": "code",
   "execution_count": 4,
   "id": "c672b4ce",
   "metadata": {},
   "outputs": [],
   "source": [
    "## criar matriz de precos com numpy\n",
    "prices_array = df.drop(columns='Date').to_numpy()"
   ]
  },
  {
   "cell_type": "code",
   "execution_count": 5,
   "id": "670a0e3f",
   "metadata": {},
   "outputs": [],
   "source": [
    "## gerar matriz de variação de preços diaria\n",
    "## subtrair a matriz dela mesma com um deslocamento de 1 dia (row)\n",
    "r = (prices_array[1:] / prices_array[:-1]) - 1"
   ]
  },
  {
   "cell_type": "code",
   "execution_count": null,
   "id": "8c03a724",
   "metadata": {},
   "outputs": [],
   "source": [
    "# DIAGNOSTICS: Check shape and values of returns matrix\n",
    "print(f\"Returns matrix shape: {r.shape}\")\n",
    "print(f\"Mean returns per asset:\\n{r.mean(axis=0)}\")\n",
    "print(f\"\\nFirst few rows of returns matrix:\\n{r[:5, :5]}\")"
   ]
  },
  {
   "cell_type": "code",
   "execution_count": 6,
   "id": "0705d04d",
   "metadata": {},
   "outputs": [],
   "source": [
    "# df.column.pct_change"
   ]
  },
  {
   "cell_type": "code",
   "execution_count": null,
   "id": "2fc4f262",
   "metadata": {},
   "outputs": [],
   "source": [
    "sigma = np.cov(r, rowvar=False)  # rowvar=False specifies that variables are in columns"
   ]
  },
  {
   "cell_type": "code",
   "execution_count": null,
   "id": "e33940be",
   "metadata": {},
   "outputs": [],
   "source": [
    "# DIAGNOSTICS: Check shape and values of covariance matrix\n",
    "print(f\"Covariance matrix shape: {sigma.shape}\")\n",
    "print(f\"\\nDiagonal of covariance matrix (variances):\\n{np.diagonal(sigma)[:5]}\")\n",
    "print(f\"\\nCheck if matrix is symmetric (should be True): {np.allclose(sigma, sigma.T)}\")"
   ]
  },
  {
   "cell_type": "code",
   "execution_count": null,
   "id": "f355ed7c",
   "metadata": {},
   "outputs": [],
   "source": [
    "## O problema é encontrar o argmax de para a função: f(w) = (r * w) / sqrt(wT * sigma * w )\n",
    "\n",
    "def sharpe_ratio_simplified(w, r, sigma):\n",
    "    # Calculate portfolio expected return\n",
    "    port_return = np.dot(r, w).mean()\n",
    "    \n",
    "    # Calculate portfolio volatility\n",
    "    port_vol = np.sqrt(np.dot(np.dot(w.T, sigma), w))\n",
    "    \n",
    "    return port_return / port_vol\n"
   ]
  },
  {
   "cell_type": "code",
   "execution_count": 9,
   "id": "c9a6a2e3",
   "metadata": {},
   "outputs": [],
   "source": [
    "## agora precisamos de uma forma de montar uma submatriz do r e sigma a partir dos indices das ações escolhidas\n",
    "\n",
    "def get_submatrix_r(r, indices):\n",
    "    return r[:, indices]\n",
    "\n",
    "def get_submatrix_sigma(sigma, indices):\n",
    "    return sigma[np.ix_(indices, indices)]"
   ]
  },
  {
   "cell_type": "code",
   "execution_count": null,
   "id": "da2bcf9c",
   "metadata": {},
   "outputs": [],
   "source": [
    "from functools import partial\n",
    "\n",
    "def gerar_vetores_aleatorios(n):\n",
    "    return np.random.uniform(0, 0.2, n) ## impura\n",
    "\n",
    "def gerar_w_valido(n: int = 25, max_tentativas: int = 1000):\n",
    "    \"\"\"\n",
    "    Gera um vetor w válido, ou seja, que soma 1 e tem n elementos e nenhum ativo tem mais de 20% da carteira\n",
    "    \"\"\"\n",
    "    gerar_vetores = partial(gerar_vetores_aleatorios, n)\n",
    "    for _ in range(max_tentativas):\n",
    "        valores = gerar_vetores() ## impura\n",
    "\n",
    "        soma_atual = np.sum(valores)    \n",
    "        valores_normalizados = valores * (1 / soma_atual)\n",
    "        \n",
    "        # Verificar se após normalização todos os valores ainda estão abaixo de 0.2\n",
    "        if np.all(valores_normalizados <= 0.2):\n",
    "            return valores_normalizados\n"
   ]
  },
  {
   "cell_type": "code",
   "execution_count": null,
   "id": "046d88b9",
   "metadata": {},
   "outputs": [],
   "source": [
    "# TEST: Check if weights sum to 1\n",
    "test_w = gerar_w_valido(30)\n",
    "print(f\"Sum of weights: {np.sum(test_w):.10f} (should be 1.0)\")\n",
    "print(f\"Maximum weight: {np.max(test_w):.10f} (should be <= 0.2)\")"
   ]
  },
  {
   "cell_type": "code",
   "execution_count": null,
   "id": "2682019b",
   "metadata": {},
   "outputs": [],
   "source": [
    "## teste: selecionar 25 das 30 ações aleatoriamente e usar um vetor w gerado aleatoriamente para calcular o sharpe ratio\n",
    "\n",
    "def calcular_sharpe_ratio_teste(r, sigma, n=25):\n",
    "    # Selecionar 25 ações aleatoriamente\n",
    "    indices = np.random.choice(r.shape[1], size=n, replace=False)\n",
    "    \n",
    "    # Obter submatrizes\n",
    "    r_sub = get_submatrix_r(r, indices)\n",
    "    sigma_sub = get_submatrix_sigma(sigma, indices)\n",
    "    \n",
    "    # Gerar vetor w válido\n",
    "    w = gerar_w_valido(n)\n",
    "    \n",
    "    # Calcular o Sharpe Ratio\n",
    "    sr = sharpe_ratio_simplified(w, r_sub, sigma_sub)\n",
    "    \n",
    "    return sr, w, indices\n",
    "\n",
    "sr, w_teste, indices_teste = calcular_sharpe_ratio_teste(r, sigma)"
   ]
  },
  {
   "cell_type": "code",
   "execution_count": null,
   "id": "0d6cd416",
   "metadata": {},
   "outputs": [],
   "source": [
    "# DIAGNOSTICS: Examine the sharpe ratio calculation in detail\n",
    "# Get test data\n",
    "r_sub = get_submatrix_r(r, indices_teste)\n",
    "sigma_sub = get_submatrix_sigma(sigma, indices_teste)\n",
    "\n",
    "# Calculate portfolio return\n",
    "port_return = np.dot(r_sub, w_teste).mean()\n",
    "# Calculate daily volatility\n",
    "port_vol = np.sqrt(np.dot(np.dot(w_teste.T, sigma_sub), w_teste))\n",
    "\n",
    "# Calculate daily and annualized Sharpe ratio\n",
    "daily_sharpe = port_return / port_vol\n",
    "annual_sharpe = (port_return * 252) / (port_vol * np.sqrt(252))\n",
    "\n",
    "print(f\"Portfolio expected daily return: {port_return:.6f}\")\n",
    "print(f\"Portfolio daily volatility: {port_vol:.6f}\")\n",
    "print(f\"Daily Sharpe ratio: {daily_sharpe:.6f}\")\n",
    "print(f\"Annualized Sharpe ratio (252 trading days): {annual_sharpe:.6f}\")\n",
    "print(f\"Simplified annualized Sharpe (using factor 252/sqrt(252)): {daily_sharpe * (252/np.sqrt(252)):.6f}\")\n",
    "print(f\"Original test Sharpe: {sr:.6f}\")"
   ]
  },
  {
   "cell_type": "code",
   "execution_count": null,
   "id": "3f0d6611",
   "metadata": {},
   "outputs": [],
   "source": [
    "from functools import partial\n",
    "\n",
    "def calcular_n_sharpes_da_carteira(indices_carteira, r, sigma, n=1000):\n",
    "    \"\"\"\n",
    "    Calcula n Sharpe Ratios para uma carteira com os indices passados\n",
    "    \"\"\"\n",
    "    r_sub = get_submatrix_r(r, indices_carteira) ## pura\n",
    "    sigma_sub = get_submatrix_sigma(sigma, indices_carteira) ## pura\n",
    "    calculate_sr_with_w = partial(sharpe_ratio_simplified, r=r_sub, sigma=sigma_sub)\n",
    "    ## Create a list of n random w vectors and then use map to calculate the sharpe ratio for each\n",
    "    sharpes = list(map(calculate_sr_with_w, [gerar_w_valido(len(indices_carteira)) for _ in range(n)])) ## impura devido ao uso de gerar_w_valido\n",
    "    \n",
    "    return max(sharpes)"
   ]
  },
  {
   "cell_type": "code",
   "execution_count": 15,
   "id": "f8192f22",
   "metadata": {},
   "outputs": [],
   "source": [
    "from multiprocessing import Pool\n",
    "## sample teste\n",
    "indices_teste = [np.random.choice(r.shape[1], size=25, replace=False) for _ in range(1000)]\n",
    "calcular_n_sharpes_dos_indices = partial(calcular_n_sharpes_da_carteira, r=r, sigma=sigma)\n",
    "result = Pool().map(calcular_n_sharpes_dos_indices, indices_teste)"
   ]
  },
  {
   "cell_type": "code",
   "execution_count": 21,
   "id": "06087f56",
   "metadata": {},
   "outputs": [],
   "source": [
    "# from functools import map\n",
    "result_sem_paralelismo = list(map(calcular_n_sharpes_dos_indices, indices_teste))"
   ]
  },
  {
   "cell_type": "code",
   "execution_count": 17,
   "id": "85563351",
   "metadata": {},
   "outputs": [
    {
     "data": {
      "text/plain": [
       "0.729057445403259"
      ]
     },
     "execution_count": 17,
     "metadata": {},
     "output_type": "execute_result"
    }
   ],
   "source": [
    "max(result)"
   ]
  },
  {
   "cell_type": "code",
   "execution_count": null,
   "id": "f5d33fd6",
   "metadata": {},
   "outputs": [],
   "source": [
    "# DIAGNOSTICS: Check range of Sharpe ratios\n",
    "print(f\"Min Sharpe ratio: {min(result):.6f}\")\n",
    "print(f\"Max Sharpe ratio: {max(result):.6f}\")\n",
    "print(f\"Mean Sharpe ratio: {np.mean(result):.6f}\")\n",
    "print(f\"Sharpe ratio distribution: {np.percentile(result, [25, 50, 75, 90, 95, 99])}\")"
   ]
  },
  {
   "cell_type": "code",
   "execution_count": null,
   "id": "23b5f210",
   "metadata": {},
   "outputs": [],
   "source": [
    "# IMPLEMENTATION WITH ANNUALIZATION\n",
    "def improved_sharpe_ratio(w, r, sigma, annualize=True):\n",
    "    \"\"\"Improved Sharpe ratio calculation with proper annualization\"\"\"\n",
    "    # Calculate portfolio expected return\n",
    "    port_return = np.dot(r, w).mean()\n",
    "    \n",
    "    # Calculate portfolio volatility\n",
    "    port_vol = np.sqrt(np.dot(np.dot(w.T, sigma), w))\n",
    "    \n",
    "    # Calculate daily Sharpe ratio\n",
    "    daily_sharpe = port_return / port_vol\n",
    "    \n",
    "    if annualize:\n",
    "        # Properly annualize (assuming 252 trading days)\n",
    "        return (port_return * 252) / (port_vol * np.sqrt(252))\n",
    "    else:\n",
    "        return daily_sharpe\n",
    "\n",
    "# Test with the same data\n",
    "improved_sr = improved_sharpe_ratio(w_teste, r_sub, sigma_sub, annualize=True)\n",
    "print(f\"Improved annualized Sharpe ratio: {improved_sr:.6f}\")"
   ]
  }
 ],
 "metadata": {
  "kernelspec": {
   "display_name": "3.12.9",
   "language": "python",
   "name": "python3"
  },
  "language_info": {
   "codemirror_mode": {
    "name": "ipython",
    "version": 3
   },
   "file_extension": ".py",
   "mimetype": "text/x-python",
   "name": "python",
   "nbconvert_exporter": "python",
   "pygments_lexer": "ipython3",
   "version": "3.12.9"
  }
 },
 "nbformat": 4,
 "nbformat_minor": 5
}
