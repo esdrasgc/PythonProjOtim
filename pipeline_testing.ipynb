{
 "cells": [
  {
   "cell_type": "code",
   "execution_count": 1,
   "id": "513b06e5",
   "metadata": {},
   "outputs": [],
   "source": [
    "import pandas as pd\n",
    "import numpy as np\n",
    "import pathlib\n"
   ]
  },
  {
   "cell_type": "code",
   "execution_count": 2,
   "id": "52fc3a3c",
   "metadata": {},
   "outputs": [],
   "source": [
    "path_data = pathlib.Path().cwd() / 'data'\n",
    "path_raw = path_data / 'raw'"
   ]
  },
  {
   "cell_type": "code",
   "execution_count": 3,
   "id": "e2e7da61",
   "metadata": {},
   "outputs": [],
   "source": [
    "# Read CSV file with polars\n",
    "df = pd.read_csv(path_raw / \"dow_jones_close_prices_aug_dec_2024.csv\")\n"
   ]
  },
  {
   "cell_type": "code",
   "execution_count": 4,
   "id": "c672b4ce",
   "metadata": {},
   "outputs": [],
   "source": [
    "## criar matriz de precos com numpy\n",
    "prices_array = df.drop(columns='Date').to_numpy()"
   ]
  },
  {
   "cell_type": "code",
   "execution_count": 5,
   "id": "670a0e3f",
   "metadata": {},
   "outputs": [],
   "source": [
    "## gerar matriz de variação de preços diaria\n",
    "## subtrair a matriz dela mesma com um deslocamento de 1 dia (row)\n",
    "r = (prices_array[1:] / prices_array[:-1]) - 1"
   ]
  },
  {
   "cell_type": "code",
   "execution_count": 6,
   "id": "0705d04d",
   "metadata": {},
   "outputs": [],
   "source": [
    "# df.column.pct_change"
   ]
  },
  {
   "cell_type": "code",
   "execution_count": 7,
   "id": "2fc4f262",
   "metadata": {},
   "outputs": [],
   "source": [
    "sigma = np.cov(r)"
   ]
  },
  {
   "cell_type": "code",
   "execution_count": 8,
   "id": "f355ed7c",
   "metadata": {},
   "outputs": [],
   "source": [
    "## O problema é encontrar o argmax de para a função: f(w) = (r * w) / sqrt(wT * sigma * w )\n",
    "\n",
    "def sharpe_ratio_simplified(w, r, sigma):\n",
    "    return (np.dot(r, w).mean() / np.sqrt(np.dot(np.dot(w.T, sigma), w)))\n"
   ]
  },
  {
   "cell_type": "code",
   "execution_count": 9,
   "id": "c9a6a2e3",
   "metadata": {},
   "outputs": [],
   "source": [
    "## agora precisamos de uma forma de montar uma submatriz do r e sigma a partir dos indices das ações escolhidas\n",
    "\n",
    "def get_submatrix_r(r, indices):\n",
    "    return r[:, indices]\n",
    "\n",
    "def get_submatrix_sigma(sigma, indices):\n",
    "    return sigma[np.ix_(indices, indices)]"
   ]
  },
  {
   "cell_type": "code",
   "execution_count": null,
   "id": "da2bcf9c",
   "metadata": {},
   "outputs": [],
   "source": [
    "from functools import partial\n",
    "\n",
    "def gerar_vetores_aleatorios(n):\n",
    "    return np.random.uniform(0, 0.2, n) ## impura\n",
    "\n",
    "def gerar_w_valido(n: int = 25, max_tentativas: int = 1000):\n",
    "    \"\"\"\n",
    "    Gera um vetor w válido, ou seja, que soma 1 e tem n elementos e nenhum ativo tem mais de 20% da carteira\n",
    "    \"\"\"\n",
    "    gerar_vetores = partial(gerar_vetores_aleatorios, n)\n",
    "    for _ in range(max_tentativas):\n",
    "        valores = gerar_vetores() ## impura\n",
    "\n",
    "        soma_atual = np.sum(valores)    \n",
    "        valores_normalizados = valores * (1 / soma_atual)\n",
    "        \n",
    "        # Verificar se após normalização todos os valores ainda estão abaixo de 0.2\n",
    "        if np.all(valores_normalizados <= 0.2):\n",
    "            return valores_normalizados\n"
   ]
  },
  {
   "cell_type": "code",
   "execution_count": 11,
   "id": "2682019b",
   "metadata": {},
   "outputs": [],
   "source": [
    "## teste: selecionar 25 das 30 ações aleatoriamente e usar um vetor w gerado aleatoriamente para calcular o sharpe ratio\n",
    "\n",
    "def calcular_sharpe_ratio_teste(r, sigma, n=25):\n",
    "    # Selecionar 25 ações aleatoriamente\n",
    "    indices = np.random.choice(r.shape[1], size=n, replace=False)\n",
    "    \n",
    "    # Obter submatrizes\n",
    "    r_sub = get_submatrix_r(r, indices)\n",
    "    sigma_sub = get_submatrix_sigma(sigma, indices)\n",
    "    \n",
    "    # Gerar vetor w válido\n",
    "    w = gerar_w_valido(n)\n",
    "    \n",
    "    # Calcular o Sharpe Ratio\n",
    "    sr = sharpe_ratio_simplified(w, r_sub, sigma_sub)\n",
    "    \n",
    "    return sr\n",
    "\n",
    "sr = calcular_sharpe_ratio_teste(r, sigma)"
   ]
  },
  {
   "cell_type": "code",
   "execution_count": null,
   "id": "3f0d6611",
   "metadata": {},
   "outputs": [],
   "source": [
    "from functools import partial\n",
    "\n",
    "def calcular_n_sharpes_da_carteira(indices_carteira, r, sigma, n=1000):\n",
    "    \"\"\"\n",
    "    Calcula n Sharpe Ratios para uma carteira com os indices passados\n",
    "    \"\"\"\n",
    "    r_sub = get_submatrix_r(r, indices_carteira) ## pura\n",
    "    sigma_sub = get_submatrix_sigma(sigma, indices_carteira) ## pura\n",
    "    calculate_sr_with_w = partial(sharpe_ratio_simplified, r=r_sub, sigma=sigma_sub)\n",
    "    ## Create a list of n random w vectors and then use map to calculate the sharpe ratio for each\n",
    "    sharpes = list(map(calculate_sr_with_w, [gerar_w_valido(len(indices_carteira)) for _ in range(n)])) ## impura devido ao uso de gerar_w_valido\n",
    "    \n",
    "    return max(sharpes)"
   ]
  },
  {
   "cell_type": "code",
   "execution_count": 15,
   "id": "f8192f22",
   "metadata": {},
   "outputs": [],
   "source": [
    "from multiprocessing import Pool\n",
    "## sample teste\n",
    "indices_teste = [np.random.choice(r.shape[1], size=25, replace=False) for _ in range(1000)]\n",
    "calcular_n_sharpes_dos_indices = partial(calcular_n_sharpes_da_carteira, r=r, sigma=sigma)\n",
    "result = Pool().map(calcular_n_sharpes_dos_indices, indices_teste)"
   ]
  },
  {
   "cell_type": "code",
   "execution_count": 21,
   "id": "06087f56",
   "metadata": {},
   "outputs": [],
   "source": [
    "# from functools import map\n",
    "result_sem_paralelismo = list(map(calcular_n_sharpes_dos_indices, indices_teste))"
   ]
  },
  {
   "cell_type": "code",
   "execution_count": 17,
   "id": "85563351",
   "metadata": {},
   "outputs": [
    {
     "data": {
      "text/plain": [
       "0.729057445403259"
      ]
     },
     "execution_count": 17,
     "metadata": {},
     "output_type": "execute_result"
    }
   ],
   "source": [
    "max(result)"
   ]
  }
 ],
 "metadata": {
  "kernelspec": {
   "display_name": "3.12.9",
   "language": "python",
   "name": "python3"
  },
  "language_info": {
   "codemirror_mode": {
    "name": "ipython",
    "version": 3
   },
   "file_extension": ".py",
   "mimetype": "text/x-python",
   "name": "python",
   "nbconvert_exporter": "python",
   "pygments_lexer": "ipython3",
   "version": "3.12.9"
  }
 },
 "nbformat": 4,
 "nbformat_minor": 5
}
